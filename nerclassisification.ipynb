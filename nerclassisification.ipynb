{
 "cells": [
  {
   "metadata": {},
   "cell_type": "markdown",
   "source": "### Token Classification (NER) with BERT",
   "id": "fb4a2ccc76ec7d53"
  },
  {
   "metadata": {},
   "cell_type": "markdown",
   "source": "### Import the needed libraries",
   "id": "f7b388ab6fdcd3b"
  },
  {
   "metadata": {
    "collapsed": true,
    "ExecuteTime": {
     "end_time": "2025-09-06T14:18:33.822135Z",
     "start_time": "2025-09-06T14:18:33.809133Z"
    }
   },
   "cell_type": "code",
   "outputs": [],
   "execution_count": 7,
   "source": [
    "import tensorflow_hub as hub\n",
    "import tensorflow as tf\n",
    "import datasets\n",
    "import tokenizers\n",
    "import seqeval\n",
    "import transformers"
   ],
   "id": "e54b9472651ed610"
  },
  {
   "metadata": {
    "ExecuteTime": {
     "end_time": "2025-09-06T14:07:09.433922Z",
     "start_time": "2025-09-06T14:07:09.423928Z"
    }
   },
   "cell_type": "code",
   "source": [
    "print(\"can\"\n",
    "      \"\")"
   ],
   "id": "813c972873ae37dc",
   "outputs": [
    {
     "name": "stdout",
     "output_type": "stream",
     "text": [
      "can\n"
     ]
    }
   ],
   "execution_count": 4
  },
  {
   "metadata": {
    "ExecuteTime": {
     "end_time": "2025-09-06T14:07:14.461669Z",
     "start_time": "2025-09-06T14:07:14.446817Z"
    }
   },
   "cell_type": "code",
   "source": "tf.__version__",
   "id": "b80c7af370ff8568",
   "outputs": [
    {
     "data": {
      "text/plain": [
       "'2.10.1'"
      ]
     },
     "execution_count": 5,
     "metadata": {},
     "output_type": "execute_result"
    }
   ],
   "execution_count": 5
  },
  {
   "metadata": {},
   "cell_type": "code",
   "outputs": [],
   "execution_count": null,
   "source": "",
   "id": "d2c2078e6cb3b575"
  }
 ],
 "metadata": {
  "kernelspec": {
   "display_name": "Python 3",
   "language": "python",
   "name": "python3"
  },
  "language_info": {
   "codemirror_mode": {
    "name": "ipython",
    "version": 2
   },
   "file_extension": ".py",
   "mimetype": "text/x-python",
   "name": "python",
   "nbconvert_exporter": "python",
   "pygments_lexer": "ipython2",
   "version": "2.7.6"
  }
 },
 "nbformat": 4,
 "nbformat_minor": 5
}
