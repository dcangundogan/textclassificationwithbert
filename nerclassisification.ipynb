{
 "cells": [
  {
   "cell_type": "markdown",
   "id": "fb4a2ccc76ec7d53",
   "metadata": {},
   "source": [
    "# Token Classification (NER) with BERT"
   ]
  },
  {
   "cell_type": "markdown",
   "id": "f7b388ab6fdcd3b",
   "metadata": {},
   "source": [
    "## Import the needed libraries"
   ]
  },
  {
   "cell_type": "code",
   "execution_count": 5,
   "id": "8aab88e4fefffd45",
   "metadata": {
    "ExecuteTime": {
     "end_time": "2025-09-06T17:36:37.195312Z",
     "start_time": "2025-09-06T17:36:35.590903Z"
    }
   },
   "outputs": [
    {
     "name": "stdout",
     "output_type": "stream",
     "text": [
      "Torch: 2.5.1+cu121\n",
      "CUDA build: 12.1\n",
      "CUDA available: True\n"
     ]
    }
   ],
   "source": [
    "import torch\n",
    "print(\"Torch:\", torch.__version__)\n",
    "print(\"CUDA build:\", torch.version.cuda)\n",
    "print(\"CUDA available:\", torch.cuda.is_available())\n"
   ]
  },
  {
   "cell_type": "code",
   "execution_count": 6,
   "id": "e54b9472651ed610",
   "metadata": {
    "ExecuteTime": {
     "end_time": "2025-09-06T17:36:41.912298Z",
     "start_time": "2025-09-06T17:36:41.814413Z"
    },
    "collapsed": true
   },
   "outputs": [],
   "source": [
    "import numpy as np\n",
    "import torch\n",
    "import tokenizers\n",
    "import seqeval\n",
    "from transformers import AutoTokenizer, AutoModelForTokenClassification, Trainer, TrainingArguments, BertTokenizerFast\n",
    "from datasets import load_dataset, Dataset, DatasetDict"
   ]
  },
  {
   "cell_type": "markdown",
   "id": "d3697e7fd0de70d7",
   "metadata": {},
   "source": [
    "## Load the dataset and analyze"
   ]
  },
  {
   "cell_type": "code",
   "execution_count": 7,
   "id": "bb8d3a0722f64e5",
   "metadata": {
    "ExecuteTime": {
     "end_time": "2025-09-06T17:31:43.588150Z",
     "start_time": "2025-09-06T17:31:42.801245Z"
    }
   },
   "outputs": [
    {
     "name": "stderr",
     "output_type": "stream",
     "text": [
      "`trust_remote_code` is not supported anymore.\n",
      "Please check that the Hugging Face dataset 'conll2003' isn't based on a loading script and remove `trust_remote_code`.\n",
      "If the dataset is based on a loading script, please ask the dataset author to remove it and convert it to a standard format like Parquet.\n",
      "Using the latest cached version of the dataset since conll2003 couldn't be found on the Hugging Face Hub\n",
      "Found the latest cached dataset configuration 'conll2003' at C:\\Users\\gundo\\.cache\\huggingface\\datasets\\conll2003\\conll2003\\1.0.0\\9a4d16a94f8674ba3466315300359b0acd891b68b6c8743ddf60b9c702adce98 (last modified on Sat Sep  6 17:35:35 2025).\n"
     ]
    },
    {
     "data": {
      "text/plain": [
       "DatasetDict({\n",
       "    train: Dataset({\n",
       "        features: ['id', 'tokens', 'pos_tags', 'chunk_tags', 'ner_tags'],\n",
       "        num_rows: 14041\n",
       "    })\n",
       "    validation: Dataset({\n",
       "        features: ['id', 'tokens', 'pos_tags', 'chunk_tags', 'ner_tags'],\n",
       "        num_rows: 3250\n",
       "    })\n",
       "    test: Dataset({\n",
       "        features: ['id', 'tokens', 'pos_tags', 'chunk_tags', 'ner_tags'],\n",
       "        num_rows: 3453\n",
       "    })\n",
       "})"
      ]
     },
     "execution_count": 7,
     "metadata": {},
     "output_type": "execute_result"
    }
   ],
   "source": [
    "conds=load_dataset(\"conll2003\",trust_remote_code=True)\n",
    "conds\n"
   ]
  },
  {
   "cell_type": "code",
   "execution_count": 8,
   "id": "813c972873ae37dc",
   "metadata": {
    "ExecuteTime": {
     "end_time": "2025-09-06T17:02:38.302197300Z",
     "start_time": "2025-09-06T14:42:36.068025Z"
    }
   },
   "outputs": [
    {
     "data": {
      "text/plain": [
       "{'train': (14041, 5), 'validation': (3250, 5), 'test': (3453, 5)}"
      ]
     },
     "execution_count": 8,
     "metadata": {},
     "output_type": "execute_result"
    }
   ],
   "source": [
    "conds.shape"
   ]
  },
  {
   "cell_type": "code",
   "execution_count": 9,
   "id": "d2c2078e6cb3b575",
   "metadata": {
    "ExecuteTime": {
     "end_time": "2025-09-06T17:02:38.303403500Z",
     "start_time": "2025-09-06T14:42:37.450301Z"
    }
   },
   "outputs": [
    {
     "data": {
      "text/plain": [
       "Dataset({\n",
       "    features: ['id', 'tokens', 'pos_tags', 'chunk_tags', 'ner_tags'],\n",
       "    num_rows: 14041\n",
       "})"
      ]
     },
     "execution_count": 9,
     "metadata": {},
     "output_type": "execute_result"
    }
   ],
   "source": [
    "conds['train']"
   ]
  },
  {
   "cell_type": "code",
   "execution_count": 10,
   "id": "7f149c5df3e1adc3",
   "metadata": {
    "ExecuteTime": {
     "end_time": "2025-09-06T17:02:38.304404300Z",
     "start_time": "2025-09-06T14:42:39.418324Z"
    }
   },
   "outputs": [
    {
     "data": {
      "text/plain": [
       "List(ClassLabel(names=['O', 'B-PER', 'I-PER', 'B-ORG', 'I-ORG', 'B-LOC', 'I-LOC', 'B-MISC', 'I-MISC']))"
      ]
     },
     "execution_count": 10,
     "metadata": {},
     "output_type": "execute_result"
    }
   ],
   "source": [
    "conds['train'].features['ner_tags']"
   ]
  },
  {
   "cell_type": "code",
   "execution_count": 11,
   "id": "eb75556b1e7feae4",
   "metadata": {
    "ExecuteTime": {
     "end_time": "2025-09-06T17:02:38.304404300Z",
     "start_time": "2025-09-06T14:42:39.812424Z"
    }
   },
   "outputs": [
    {
     "data": {
      "text/plain": [
       "List(Value('string'))"
      ]
     },
     "execution_count": 11,
     "metadata": {},
     "output_type": "execute_result"
    }
   ],
   "source": [
    "conds['train'].features['tokens']\n"
   ]
  },
  {
   "cell_type": "code",
   "execution_count": 12,
   "id": "7c402040c1deda3f",
   "metadata": {
    "ExecuteTime": {
     "end_time": "2025-09-06T17:02:38.305403300Z",
     "start_time": "2025-09-06T14:42:40.198250Z"
    }
   },
   "outputs": [
    {
     "data": {
      "text/plain": [
       "List(ClassLabel(names=['\"', \"''\", '#', '$', '(', ')', ',', '.', ':', '``', 'CC', 'CD', 'DT', 'EX', 'FW', 'IN', 'JJ', 'JJR', 'JJS', 'LS', 'MD', 'NN', 'NNP', 'NNPS', 'NNS', 'NN|SYM', 'PDT', 'POS', 'PRP', 'PRP$', 'RB', 'RBR', 'RBS', 'RP', 'SYM', 'TO', 'UH', 'VB', 'VBD', 'VBG', 'VBN', 'VBP', 'VBZ', 'WDT', 'WP', 'WP$', 'WRB']))"
      ]
     },
     "execution_count": 12,
     "metadata": {},
     "output_type": "execute_result"
    }
   ],
   "source": [
    "conds['train'].features['pos_tags']\n"
   ]
  },
  {
   "cell_type": "code",
   "execution_count": 13,
   "id": "3634aa0f9853af0f",
   "metadata": {
    "ExecuteTime": {
     "end_time": "2025-09-06T17:02:38.305403300Z",
     "start_time": "2025-09-06T14:42:40.584517Z"
    }
   },
   "outputs": [
    {
     "data": {
      "text/plain": [
       "'The shared task of CoNLL-2003 concerns language-independent named entity recognition. We will concentrate on\\nfour types of named entities: persons, locations, organizations and names of miscellaneous entities that do\\nnot belong to the previous three groups.\\n\\nThe CoNLL-2003 shared task data files contain four columns separated by a single space. Each word has been put on\\na separate line and there is an empty line after each sentence. The first item on each line is a word, the second\\na part-of-speech (POS) tag, the third a syntactic chunk tag and the fourth the named entity tag. The chunk tags\\nand the named entity tags have the format I-TYPE which means that the word is inside a phrase of type TYPE. Only\\nif two phrases of the same type immediately follow each other, the first word of the second phrase will have tag\\nB-TYPE to show that it starts a new phrase. A word with tag O is not part of a phrase. Note the dataset uses IOB2\\ntagging scheme, whereas the original dataset uses IOB1.\\n\\nFor more details see https://www.clips.uantwerpen.be/conll2003/ner/ and https://www.aclweb.org/anthology/W03-0419\\n'"
      ]
     },
     "execution_count": 13,
     "metadata": {},
     "output_type": "execute_result"
    }
   ],
   "source": [
    "conds['train'].description\n"
   ]
  },
  {
   "cell_type": "code",
   "execution_count": 14,
   "id": "66a651a73dae1b46",
   "metadata": {
    "ExecuteTime": {
     "end_time": "2025-09-06T17:02:38.305403300Z",
     "start_time": "2025-09-06T16:42:49.639221Z"
    }
   },
   "outputs": [],
   "source": [
    "tokenizer= BertTokenizerFast.from_pretrained('bert-base-uncased')"
   ]
  },
  {
   "cell_type": "code",
   "execution_count": 15,
   "id": "81c7266fa6c3081e",
   "metadata": {
    "ExecuteTime": {
     "end_time": "2025-09-06T17:02:38.306403200Z",
     "start_time": "2025-09-06T16:43:25.142067Z"
    }
   },
   "outputs": [
    {
     "data": {
      "text/plain": [
       "{'id': '0',\n",
       " 'tokens': ['EU',\n",
       "  'rejects',\n",
       "  'German',\n",
       "  'call',\n",
       "  'to',\n",
       "  'boycott',\n",
       "  'British',\n",
       "  'lamb',\n",
       "  '.'],\n",
       " 'pos_tags': [22, 42, 16, 21, 35, 37, 16, 21, 7],\n",
       " 'chunk_tags': [11, 21, 11, 12, 21, 22, 11, 12, 0],\n",
       " 'ner_tags': [3, 0, 7, 0, 0, 0, 7, 0, 0]}"
      ]
     },
     "execution_count": 15,
     "metadata": {},
     "output_type": "execute_result"
    }
   ],
   "source": [
    "example_text =conds['train'][0]\n",
    "example_text"
   ]
  },
  {
   "cell_type": "code",
   "execution_count": 16,
   "id": "1cd99cca17ad508b",
   "metadata": {
    "ExecuteTime": {
     "end_time": "2025-09-06T17:02:38.306403200Z",
     "start_time": "2025-09-06T16:44:04.381447Z"
    }
   },
   "outputs": [
    {
     "data": {
      "text/plain": [
       "{'input_ids': [101, 7327, 19164, 2446, 2655, 2000, 17757, 2329, 12559, 1012, 102], 'token_type_ids': [0, 0, 0, 0, 0, 0, 0, 0, 0, 0, 0], 'attention_mask': [1, 1, 1, 1, 1, 1, 1, 1, 1, 1, 1]}"
      ]
     },
     "execution_count": 16,
     "metadata": {},
     "output_type": "execute_result"
    }
   ],
   "source": [
    "tokenized_input= tokenizer(example_text['tokens'],is_split_into_words=True)\n",
    "tokenized_input"
   ]
  },
  {
   "cell_type": "code",
   "execution_count": 17,
   "id": "97e4da848fadb9ad",
   "metadata": {
    "ExecuteTime": {
     "end_time": "2025-09-06T17:02:38.306403200Z",
     "start_time": "2025-09-06T16:46:48.139641Z"
    }
   },
   "outputs": [
    {
     "data": {
      "text/plain": [
       "[None, 0, 1, 2, 3, 4, 5, 6, 7, 8, None]"
      ]
     },
     "execution_count": 17,
     "metadata": {},
     "output_type": "execute_result"
    }
   ],
   "source": [
    "tokens=tokenizer.convert_ids_to_tokens(tokenized_input['input_ids'])\n",
    "word_ids = tokenized_input.word_ids()\n",
    "word_ids"
   ]
  },
  {
   "cell_type": "code",
   "execution_count": 23,
   "id": "61dc41c0",
   "metadata": {},
   "outputs": [
    {
     "data": {
      "text/plain": [
       "['[CLS]',\n",
       " 'eu',\n",
       " 'rejects',\n",
       " 'german',\n",
       " 'call',\n",
       " 'to',\n",
       " 'boycott',\n",
       " 'british',\n",
       " 'lamb',\n",
       " '.',\n",
       " '[SEP]']"
      ]
     },
     "execution_count": 23,
     "metadata": {},
     "output_type": "execute_result"
    }
   ],
   "source": [
    "tokens"
   ]
  },
  {
   "cell_type": "code",
   "execution_count": 18,
   "id": "f663878959c0b77f",
   "metadata": {
    "ExecuteTime": {
     "end_time": "2025-09-06T17:02:38.307624200Z",
     "start_time": "2025-09-06T17:02:21.232473Z"
    }
   },
   "outputs": [
    {
     "data": {
      "text/plain": [
       "9"
      ]
     },
     "execution_count": 18,
     "metadata": {},
     "output_type": "execute_result"
    }
   ],
   "source": [
    "len(example_text['ner_tags'])"
   ]
  },
  {
   "cell_type": "code",
   "execution_count": 21,
   "id": "3f95063c879f0724",
   "metadata": {},
   "outputs": [
    {
     "data": {
      "text/plain": [
       "11"
      ]
     },
     "execution_count": 21,
     "metadata": {},
     "output_type": "execute_result"
    }
   ],
   "source": [
    "len(tokenized_input['input_ids'])"
   ]
  },
  {
   "cell_type": "code",
   "execution_count": 22,
   "id": "62a01f21",
   "metadata": {},
   "outputs": [],
   "source": [
    "#We need to align tokens and labels to get better results and make no room for inconsistency\n"
   ]
  },
  {
   "cell_type": "code",
   "execution_count": 26,
   "id": "392c787b",
   "metadata": {},
   "outputs": [],
   "source": [
    "def tokenize_and_align_labels(example,label_all_tokens=True):\n",
    "    tokenized_input = tokenizer(example['tokens'],truncation=True,is_split_into_words=True)\n",
    "    labels =[]\n",
    "\n",
    "    for i,label in enumerate(example['ner_tags']):\n",
    "        word_ids = tokenized_input.word_ids(batch_index=i)\n",
    "        previous_word_idx=None\n",
    "        label_ids=[]\n",
    "\n",
    "        for word_idx in word_ids:\n",
    "            if word_idx is None:\n",
    "                label_ids.append(-100)\n",
    "            elif word_idx!= previous_word_idx:\n",
    "                label_ids.append(label[word_idx])\n",
    "            else:\n",
    "                label_ids.append(label[word_idx] if label_all_tokens else -100)\n",
    "            previous_word_idx = word_idx\n",
    "        labels.append(label_ids)\n",
    "    tokenized_input['labels']=labels\n",
    "    return tokenized_input\n",
    "\n",
    "\n",
    "\n",
    "\n"
   ]
  },
  {
   "cell_type": "code",
   "execution_count": 28,
   "id": "6cba3b1f",
   "metadata": {},
   "outputs": [
    {
     "data": {
      "text/plain": [
       "[[5,\n",
       "  0,\n",
       "  0,\n",
       "  0,\n",
       "  0,\n",
       "  3,\n",
       "  4,\n",
       "  0,\n",
       "  0,\n",
       "  0,\n",
       "  1,\n",
       "  2,\n",
       "  0,\n",
       "  0,\n",
       "  0,\n",
       "  0,\n",
       "  0,\n",
       "  0,\n",
       "  0,\n",
       "  0,\n",
       "  0,\n",
       "  0,\n",
       "  0,\n",
       "  5,\n",
       "  0,\n",
       "  0,\n",
       "  0,\n",
       "  0,\n",
       "  0,\n",
       "  0,\n",
       "  0]]"
      ]
     },
     "execution_count": 28,
     "metadata": {},
     "output_type": "execute_result"
    }
   ],
   "source": [
    "conds['train'][4:5]['ner_tags']"
   ]
  },
  {
   "cell_type": "code",
   "execution_count": null,
   "id": "0259b2f7",
   "metadata": {},
   "outputs": [],
   "source": []
  }
 ],
 "metadata": {
  "kernelspec": {
   "display_name": "py312",
   "language": "python",
   "name": "python3"
  },
  "language_info": {
   "codemirror_mode": {
    "name": "ipython",
    "version": 3
   },
   "file_extension": ".py",
   "mimetype": "text/x-python",
   "name": "python",
   "nbconvert_exporter": "python",
   "pygments_lexer": "ipython3",
   "version": "3.12.11"
  }
 },
 "nbformat": 4,
 "nbformat_minor": 5
}
